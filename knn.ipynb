{
 "metadata": {
  "language_info": {
   "codemirror_mode": {
    "name": "ipython",
    "version": 3
   },
   "file_extension": ".py",
   "mimetype": "text/x-python",
   "name": "python",
   "nbconvert_exporter": "python",
   "pygments_lexer": "ipython3",
   "version": "3.7.4-final"
  },
  "orig_nbformat": 2,
  "kernelspec": {
   "name": "python_defaultSpec_1597314159052",
   "display_name": "Python 3.7.4 64-bit"
  }
 },
 "nbformat": 4,
 "nbformat_minor": 2,
 "cells": [
  {
   "cell_type": "code",
   "execution_count": null,
   "metadata": {},
   "outputs": [],
   "source": [
    "# KNN - K Nearest Neighbour"
   ]
  },
  {
   "cell_type": "code",
   "execution_count": 74,
   "metadata": {},
   "outputs": [],
   "source": [
    "import numpy as np\n",
    "import matplotlib.pyplot as plt\n",
    "from sklearn.datasets import make_blobs\n",
    "from sklearn.model_selection import train_test_split"
   ]
  },
  {
   "cell_type": "code",
   "execution_count": 75,
   "metadata": {},
   "outputs": [],
   "source": [
    "data = np.load('./datasets/mnist_train_small.npy')"
   ]
  },
  {
   "cell_type": "code",
   "execution_count": 8,
   "metadata": {},
   "outputs": [
    {
     "output_type": "execute_result",
     "data": {
      "text/plain": "(19999, 785)"
     },
     "metadata": {},
     "execution_count": 8
    }
   ],
   "source": [
    "data.shape"
   ]
  },
  {
   "cell_type": "code",
   "execution_count": 77,
   "metadata": {},
   "outputs": [],
   "source": [
    "X = data[:,1:]\n",
    "y = data[:,0]"
   ]
  },
  {
   "cell_type": "code",
   "execution_count": 78,
   "metadata": {},
   "outputs": [
    {
     "output_type": "execute_result",
     "data": {
      "text/plain": "<matplotlib.image.AxesImage at 0x24678fcfb48>"
     },
     "metadata": {},
     "execution_count": 78
    },
    {
     "output_type": "display_data",
     "data": {
      "text/plain": "<Figure size 432x288 with 1 Axes>",
      "image/svg+xml": "<?xml version=\"1.0\" encoding=\"utf-8\" standalone=\"no\"?>\r\n<!DOCTYPE svg PUBLIC \"-//W3C//DTD SVG 1.1//EN\"\r\n  \"http://www.w3.org/Graphics/SVG/1.1/DTD/svg11.dtd\">\r\n<!-- Created with matplotlib (https://matplotlib.org/) -->\r\n<svg height=\"248.518125pt\" version=\"1.1\" viewBox=\"0 0 251.565 248.518125\" width=\"251.565pt\" xmlns=\"http://www.w3.org/2000/svg\" xmlns:xlink=\"http://www.w3.org/1999/xlink\">\r\n <metadata>\r\n  <rdf:RDF xmlns:cc=\"http://creativecommons.org/ns#\" xmlns:dc=\"http://purl.org/dc/elements/1.1/\" xmlns:rdf=\"http://www.w3.org/1999/02/22-rdf-syntax-ns#\">\r\n   <cc:Work>\r\n    <dc:type rdf:resource=\"http://purl.org/dc/dcmitype/StillImage\"/>\r\n    <dc:date>2020-08-13T19:23:39.283255</dc:date>\r\n    <dc:format>image/svg+xml</dc:format>\r\n    <dc:creator>\r\n     <cc:Agent>\r\n      <dc:title>Matplotlib v3.3.0, https://matplotlib.org/</dc:title>\r\n     </cc:Agent>\r\n    </dc:creator>\r\n   </cc:Work>\r\n  </rdf:RDF>\r\n </metadata>\r\n <defs>\r\n  <style type=\"text/css\">*{stroke-linecap:butt;stroke-linejoin:round;}</style>\r\n </defs>\r\n <g id=\"figure_1\">\r\n  <g id=\"patch_1\">\r\n   <path d=\"M 0 248.518125 \r\nL 251.565 248.518125 \r\nL 251.565 0 \r\nL 0 0 \r\nz\r\n\" style=\"fill:none;\"/>\r\n  </g>\r\n  <g id=\"axes_1\">\r\n   <g id=\"patch_2\">\r\n    <path d=\"M 26.925 224.64 \r\nL 244.365 224.64 \r\nL 244.365 7.2 \r\nL 26.925 7.2 \r\nz\r\n\" style=\"fill:#ffffff;\"/>\r\n   </g>\r\n   <g clip-path=\"url(#p4a5444943a)\">\r\n    <image height=\"218\" id=\"imagedb1fa0e74a\" transform=\"scale(1 -1)translate(0 -218)\" width=\"218\" x=\"26.925\" xlink:href=\"data:image/png;base64,\r\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\" y=\"-6.64\"/>\r\n   </g>\r\n   <g id=\"matplotlib.axis_1\">\r\n    <g id=\"xtick_1\">\r\n     <g id=\"line2d_1\">\r\n      <defs>\r\n       <path d=\"M 0 0 \r\nL 0 3.5 \r\n\" id=\"m59400ded70\" style=\"stroke:#000000;stroke-width:0.8;\"/>\r\n      </defs>\r\n      <g>\r\n       <use style=\"stroke:#000000;stroke-width:0.8;\" x=\"30.807857\" xlink:href=\"#m59400ded70\" y=\"224.64\"/>\r\n      </g>\r\n     </g>\r\n     <g id=\"text_1\">\r\n      <!-- 0 -->\r\n      <g transform=\"translate(27.626607 239.238437)scale(0.1 -0.1)\">\r\n       <defs>\r\n        <path d=\"M 31.78125 66.40625 \r\nQ 24.171875 66.40625 20.328125 58.90625 \r\nQ 16.5 51.421875 16.5 36.375 \r\nQ 16.5 21.390625 20.328125 13.890625 \r\nQ 24.171875 6.390625 31.78125 6.390625 \r\nQ 39.453125 6.390625 43.28125 13.890625 \r\nQ 47.125 21.390625 47.125 36.375 \r\nQ 47.125 51.421875 43.28125 58.90625 \r\nQ 39.453125 66.40625 31.78125 66.40625 \r\nz\r\nM 31.78125 74.21875 \r\nQ 44.046875 74.21875 50.515625 64.515625 \r\nQ 56.984375 54.828125 56.984375 36.375 \r\nQ 56.984375 17.96875 50.515625 8.265625 \r\nQ 44.046875 -1.421875 31.78125 -1.421875 \r\nQ 19.53125 -1.421875 13.0625 8.265625 \r\nQ 6.59375 17.96875 6.59375 36.375 \r\nQ 6.59375 54.828125 13.0625 64.515625 \r\nQ 19.53125 74.21875 31.78125 74.21875 \r\nz\r\n\" id=\"DejaVuSans-48\"/>\r\n       </defs>\r\n       <use xlink:href=\"#DejaVuSans-48\"/>\r\n      </g>\r\n     </g>\r\n    </g>\r\n    <g id=\"xtick_2\">\r\n     <g id=\"line2d_2\">\r\n      <g>\r\n       <use style=\"stroke:#000000;stroke-width:0.8;\" x=\"69.636429\" xlink:href=\"#m59400ded70\" y=\"224.64\"/>\r\n      </g>\r\n     </g>\r\n     <g id=\"text_2\">\r\n      <!-- 5 -->\r\n      <g transform=\"translate(66.455179 239.238437)scale(0.1 -0.1)\">\r\n       <defs>\r\n        <path d=\"M 10.796875 72.90625 \r\nL 49.515625 72.90625 \r\nL 49.515625 64.59375 \r\nL 19.828125 64.59375 \r\nL 19.828125 46.734375 \r\nQ 21.96875 47.46875 24.109375 47.828125 \r\nQ 26.265625 48.1875 28.421875 48.1875 \r\nQ 40.625 48.1875 47.75 41.5 \r\nQ 54.890625 34.8125 54.890625 23.390625 \r\nQ 54.890625 11.625 47.5625 5.09375 \r\nQ 40.234375 -1.421875 26.90625 -1.421875 \r\nQ 22.3125 -1.421875 17.546875 -0.640625 \r\nQ 12.796875 0.140625 7.71875 1.703125 \r\nL 7.71875 11.625 \r\nQ 12.109375 9.234375 16.796875 8.0625 \r\nQ 21.484375 6.890625 26.703125 6.890625 \r\nQ 35.15625 6.890625 40.078125 11.328125 \r\nQ 45.015625 15.765625 45.015625 23.390625 \r\nQ 45.015625 31 40.078125 35.4375 \r\nQ 35.15625 39.890625 26.703125 39.890625 \r\nQ 22.75 39.890625 18.8125 39.015625 \r\nQ 14.890625 38.140625 10.796875 36.28125 \r\nz\r\n\" id=\"DejaVuSans-53\"/>\r\n       </defs>\r\n       <use xlink:href=\"#DejaVuSans-53\"/>\r\n      </g>\r\n     </g>\r\n    </g>\r\n    <g id=\"xtick_3\">\r\n     <g id=\"line2d_3\">\r\n      <g>\r\n       <use style=\"stroke:#000000;stroke-width:0.8;\" x=\"108.465\" xlink:href=\"#m59400ded70\" y=\"224.64\"/>\r\n      </g>\r\n     </g>\r\n     <g id=\"text_3\">\r\n      <!-- 10 -->\r\n      <g transform=\"translate(102.1025 239.238437)scale(0.1 -0.1)\">\r\n       <defs>\r\n        <path d=\"M 12.40625 8.296875 \r\nL 28.515625 8.296875 \r\nL 28.515625 63.921875 \r\nL 10.984375 60.40625 \r\nL 10.984375 69.390625 \r\nL 28.421875 72.90625 \r\nL 38.28125 72.90625 \r\nL 38.28125 8.296875 \r\nL 54.390625 8.296875 \r\nL 54.390625 0 \r\nL 12.40625 0 \r\nz\r\n\" id=\"DejaVuSans-49\"/>\r\n       </defs>\r\n       <use xlink:href=\"#DejaVuSans-49\"/>\r\n       <use x=\"63.623047\" xlink:href=\"#DejaVuSans-48\"/>\r\n      </g>\r\n     </g>\r\n    </g>\r\n    <g id=\"xtick_4\">\r\n     <g id=\"line2d_4\">\r\n      <g>\r\n       <use style=\"stroke:#000000;stroke-width:0.8;\" x=\"147.293571\" xlink:href=\"#m59400ded70\" y=\"224.64\"/>\r\n      </g>\r\n     </g>\r\n     <g id=\"text_4\">\r\n      <!-- 15 -->\r\n      <g transform=\"translate(140.931071 239.238437)scale(0.1 -0.1)\">\r\n       <use xlink:href=\"#DejaVuSans-49\"/>\r\n       <use x=\"63.623047\" xlink:href=\"#DejaVuSans-53\"/>\r\n      </g>\r\n     </g>\r\n    </g>\r\n    <g id=\"xtick_5\">\r\n     <g id=\"line2d_5\">\r\n      <g>\r\n       <use style=\"stroke:#000000;stroke-width:0.8;\" x=\"186.122143\" xlink:href=\"#m59400ded70\" y=\"224.64\"/>\r\n      </g>\r\n     </g>\r\n     <g id=\"text_5\">\r\n      <!-- 20 -->\r\n      <g transform=\"translate(179.759643 239.238437)scale(0.1 -0.1)\">\r\n       <defs>\r\n        <path d=\"M 19.1875 8.296875 \r\nL 53.609375 8.296875 \r\nL 53.609375 0 \r\nL 7.328125 0 \r\nL 7.328125 8.296875 \r\nQ 12.9375 14.109375 22.625 23.890625 \r\nQ 32.328125 33.6875 34.8125 36.53125 \r\nQ 39.546875 41.84375 41.421875 45.53125 \r\nQ 43.3125 49.21875 43.3125 52.78125 \r\nQ 43.3125 58.59375 39.234375 62.25 \r\nQ 35.15625 65.921875 28.609375 65.921875 \r\nQ 23.96875 65.921875 18.8125 64.3125 \r\nQ 13.671875 62.703125 7.8125 59.421875 \r\nL 7.8125 69.390625 \r\nQ 13.765625 71.78125 18.9375 73 \r\nQ 24.125 74.21875 28.421875 74.21875 \r\nQ 39.75 74.21875 46.484375 68.546875 \r\nQ 53.21875 62.890625 53.21875 53.421875 \r\nQ 53.21875 48.921875 51.53125 44.890625 \r\nQ 49.859375 40.875 45.40625 35.40625 \r\nQ 44.1875 33.984375 37.640625 27.21875 \r\nQ 31.109375 20.453125 19.1875 8.296875 \r\nz\r\n\" id=\"DejaVuSans-50\"/>\r\n       </defs>\r\n       <use xlink:href=\"#DejaVuSans-50\"/>\r\n       <use x=\"63.623047\" xlink:href=\"#DejaVuSans-48\"/>\r\n      </g>\r\n     </g>\r\n    </g>\r\n    <g id=\"xtick_6\">\r\n     <g id=\"line2d_6\">\r\n      <g>\r\n       <use style=\"stroke:#000000;stroke-width:0.8;\" x=\"224.950714\" xlink:href=\"#m59400ded70\" y=\"224.64\"/>\r\n      </g>\r\n     </g>\r\n     <g id=\"text_6\">\r\n      <!-- 25 -->\r\n      <g transform=\"translate(218.588214 239.238437)scale(0.1 -0.1)\">\r\n       <use xlink:href=\"#DejaVuSans-50\"/>\r\n       <use x=\"63.623047\" xlink:href=\"#DejaVuSans-53\"/>\r\n      </g>\r\n     </g>\r\n    </g>\r\n   </g>\r\n   <g id=\"matplotlib.axis_2\">\r\n    <g id=\"ytick_1\">\r\n     <g id=\"line2d_7\">\r\n      <defs>\r\n       <path d=\"M 0 0 \r\nL -3.5 0 \r\n\" id=\"m36a99f4313\" style=\"stroke:#000000;stroke-width:0.8;\"/>\r\n      </defs>\r\n      <g>\r\n       <use style=\"stroke:#000000;stroke-width:0.8;\" x=\"26.925\" xlink:href=\"#m36a99f4313\" y=\"11.082857\"/>\r\n      </g>\r\n     </g>\r\n     <g id=\"text_7\">\r\n      <!-- 0 -->\r\n      <g transform=\"translate(13.5625 14.882076)scale(0.1 -0.1)\">\r\n       <use xlink:href=\"#DejaVuSans-48\"/>\r\n      </g>\r\n     </g>\r\n    </g>\r\n    <g id=\"ytick_2\">\r\n     <g id=\"line2d_8\">\r\n      <g>\r\n       <use style=\"stroke:#000000;stroke-width:0.8;\" x=\"26.925\" xlink:href=\"#m36a99f4313\" y=\"49.911429\"/>\r\n      </g>\r\n     </g>\r\n     <g id=\"text_8\">\r\n      <!-- 5 -->\r\n      <g transform=\"translate(13.5625 53.710647)scale(0.1 -0.1)\">\r\n       <use xlink:href=\"#DejaVuSans-53\"/>\r\n      </g>\r\n     </g>\r\n    </g>\r\n    <g id=\"ytick_3\">\r\n     <g id=\"line2d_9\">\r\n      <g>\r\n       <use style=\"stroke:#000000;stroke-width:0.8;\" x=\"26.925\" xlink:href=\"#m36a99f4313\" y=\"88.74\"/>\r\n      </g>\r\n     </g>\r\n     <g id=\"text_9\">\r\n      <!-- 10 -->\r\n      <g transform=\"translate(7.2 92.539219)scale(0.1 -0.1)\">\r\n       <use xlink:href=\"#DejaVuSans-49\"/>\r\n       <use x=\"63.623047\" xlink:href=\"#DejaVuSans-48\"/>\r\n      </g>\r\n     </g>\r\n    </g>\r\n    <g id=\"ytick_4\">\r\n     <g id=\"line2d_10\">\r\n      <g>\r\n       <use style=\"stroke:#000000;stroke-width:0.8;\" x=\"26.925\" xlink:href=\"#m36a99f4313\" y=\"127.568571\"/>\r\n      </g>\r\n     </g>\r\n     <g id=\"text_10\">\r\n      <!-- 15 -->\r\n      <g transform=\"translate(7.2 131.36779)scale(0.1 -0.1)\">\r\n       <use xlink:href=\"#DejaVuSans-49\"/>\r\n       <use x=\"63.623047\" xlink:href=\"#DejaVuSans-53\"/>\r\n      </g>\r\n     </g>\r\n    </g>\r\n    <g id=\"ytick_5\">\r\n     <g id=\"line2d_11\">\r\n      <g>\r\n       <use style=\"stroke:#000000;stroke-width:0.8;\" x=\"26.925\" xlink:href=\"#m36a99f4313\" y=\"166.397143\"/>\r\n      </g>\r\n     </g>\r\n     <g id=\"text_11\">\r\n      <!-- 20 -->\r\n      <g transform=\"translate(7.2 170.196362)scale(0.1 -0.1)\">\r\n       <use xlink:href=\"#DejaVuSans-50\"/>\r\n       <use x=\"63.623047\" xlink:href=\"#DejaVuSans-48\"/>\r\n      </g>\r\n     </g>\r\n    </g>\r\n    <g id=\"ytick_6\">\r\n     <g id=\"line2d_12\">\r\n      <g>\r\n       <use style=\"stroke:#000000;stroke-width:0.8;\" x=\"26.925\" xlink:href=\"#m36a99f4313\" y=\"205.225714\"/>\r\n      </g>\r\n     </g>\r\n     <g id=\"text_12\">\r\n      <!-- 25 -->\r\n      <g transform=\"translate(7.2 209.024933)scale(0.1 -0.1)\">\r\n       <use xlink:href=\"#DejaVuSans-50\"/>\r\n       <use x=\"63.623047\" xlink:href=\"#DejaVuSans-53\"/>\r\n      </g>\r\n     </g>\r\n    </g>\r\n   </g>\r\n   <g id=\"patch_3\">\r\n    <path d=\"M 26.925 224.64 \r\nL 26.925 7.2 \r\n\" style=\"fill:none;stroke:#000000;stroke-linecap:square;stroke-linejoin:miter;stroke-width:0.8;\"/>\r\n   </g>\r\n   <g id=\"patch_4\">\r\n    <path d=\"M 244.365 224.64 \r\nL 244.365 7.2 \r\n\" style=\"fill:none;stroke:#000000;stroke-linecap:square;stroke-linejoin:miter;stroke-width:0.8;\"/>\r\n   </g>\r\n   <g id=\"patch_5\">\r\n    <path d=\"M 26.925 224.64 \r\nL 244.365 224.64 \r\n\" style=\"fill:none;stroke:#000000;stroke-linecap:square;stroke-linejoin:miter;stroke-width:0.8;\"/>\r\n   </g>\r\n   <g id=\"patch_6\">\r\n    <path d=\"M 26.925 7.2 \r\nL 244.365 7.2 \r\n\" style=\"fill:none;stroke:#000000;stroke-linecap:square;stroke-linejoin:miter;stroke-width:0.8;\"/>\r\n   </g>\r\n  </g>\r\n </g>\r\n <defs>\r\n  <clipPath id=\"p4a5444943a\">\r\n   <rect height=\"217.44\" width=\"217.44\" x=\"26.925\" y=\"7.2\"/>\r\n  </clipPath>\r\n </defs>\r\n</svg>\r\n",
      "image/png": "[encoded data removed]"
     },
     "metadata": {
      "needs_background": "light"
     }
    }
   ],
   "source": [
    "plt.imshow(X[0].reshape(28,28),cmap='gray')"
   ]
  },
  {
   "cell_type": "code",
   "execution_count": 10,
   "metadata": {},
   "outputs": [
    {
     "output_type": "execute_result",
     "data": {
      "text/plain": "5"
     },
     "metadata": {},
     "execution_count": 10
    }
   ],
   "source": [
    "y[0]"
   ]
  },
  {
   "cell_type": "code",
   "execution_count": 41,
   "metadata": {},
   "outputs": [],
   "source": [
    "# X, y = make_blobs(n_samples=100,centers =3,random_state=42)"
   ]
  },
  {
   "cell_type": "code",
   "execution_count": 42,
   "metadata": {},
   "outputs": [
    {
     "output_type": "execute_result",
     "data": {
      "text/plain": "<matplotlib.collections.PathCollection at 0x1c45dc13448>"
     },
     "metadata": {},
     "execution_count": 42
    },
    {
     "output_type": "display_data",
     "data": {
      "text/plain": "<Figure size 432x288 with 1 Axes>",
      "image/svg+xml": "<?xml version=\"1.0\" encoding=\"utf-8\" standalone=\"no\"?>\r\n<!DOCTYPE svg PUBLIC \"-//W3C//DTD SVG 1.1//EN\"\r\n  \"http://www.w3.org/Graphics/SVG/1.1/DTD/svg11.dtd\">\r\n<!-- Created with matplotlib (https://matplotlib.org/) -->\r\n<svg height=\"248.518125pt\" version=\"1.1\" viewBox=\"0 0 380.482812 248.518125\" width=\"380.482812pt\" xmlns=\"http://www.w3.org/2000/svg\" xmlns:xlink=\"http://www.w3.org/1999/xlink\">\r\n <metadata>\r\n  <rdf:RDF xmlns:cc=\"http://creativecommons.org/ns#\" xmlns:dc=\"http://purl.org/dc/elements/1.1/\" xmlns:rdf=\"http://www.w3.org/1999/02/22-rdf-syntax-ns#\">\r\n   <cc:Work>\r\n    <dc:type rdf:resource=\"http://purl.org/dc/dcmitype/StillImage\"/>\r\n    <dc:date>2020-08-13T13:33:20.975640</dc:date>\r\n    <dc:format>image/svg+xml</dc:format>\r\n    <dc:creator>\r\n     <cc:Agent>\r\n      <dc:title>Matplotlib v3.3.0, https://matplotlib.org/</dc:title>\r\n     </cc:Agent>\r\n    </dc:creator>\r\n   </cc:Work>\r\n  </rdf:RDF>\r\n </metadata>\r\n <defs>\r\n  <style type=\"text/css\">*{stroke-linecap:butt;stroke-linejoin:round;}</style>\r\n </defs>\r\n <g id=\"figure_1\">\r\n  <g id=\"patch_1\">\r\n   <path d=\"M -0 248.518125 \r\nL 380.482812 248.518125 \r\nL 380.482812 0 \r\nL -0 0 \r\nz\r\n\" style=\"fill:none;\"/>\r\n  </g>\r\n  <g id=\"axes_1\">\r\n   <g id=\"patch_2\">\r\n    <path d=\"M 38.482813 224.64 \r\nL 373.282813 224.64 \r\nL 373.282813 7.2 \r\nL 38.482813 7.2 \r\nz\r\n\" style=\"fill:#ffffff;\"/>\r\n   </g>\r\n   <g id=\"PathCollection_1\">\r\n    <defs>\r\n     <path d=\"M 0 3 \r\nC 0.795609 3 1.55874 2.683901 2.12132 2.12132 \r\nC 2.683901 1.55874 3 0.795609 3 -0 \r\nC 3 -0.795609 2.683901 -1.55874 2.12132 -2.12132 \r\nC 1.55874 -2.683901 0.795609 -3 0 -3 \r\nC -0.795609 -3 -1.55874 -2.683901 -2.12132 -2.12132 \r\nC -2.683901 -1.55874 -3 -0.795609 -3 0 \r\nC -3 0.795609 -2.683901 1.55874 -2.12132 2.12132 \r\nC -1.55874 2.683901 -0.795609 3 0 3 \r\nz\r\n\" id=\"C0_0_3c4249f443\"/>\r\n    </defs>\r\n    <g clip-path=\"url(#p812e7d4a5b)\">\r\n     <use style=\"fill:#fde725;stroke:#fde725;\" x=\"69.122531\" xlink:href=\"#C0_0_3c4249f443\" y=\"214.756364\"/>\r\n    </g>\r\n    <g clip-path=\"url(#p812e7d4a5b)\">\r\n     <use style=\"fill:#21918c;stroke:#21918c;\" x=\"336.318309\" xlink:href=\"#C0_0_3c4249f443\" y=\"120.984562\"/>\r\n    </g>\r\n    <g clip-path=\"url(#p812e7d4a5b)\">\r\n     <use style=\"fill:#440154;stroke:#440154;\" x=\"165.37413\" xlink:href=\"#C0_0_3c4249f443\" y=\"30.524712\"/>\r\n    </g>\r\n    <g clip-path=\"url(#p812e7d4a5b)\">\r\n     <use style=\"fill:#21918c;stroke:#21918c;\" x=\"348.264784\" xlink:href=\"#C0_0_3c4249f443\" y=\"122.739326\"/>\r\n    </g>\r\n    <g clip-path=\"url(#p812e7d4a5b)\">\r\n     <use style=\"fill:#fde725;stroke:#fde725;\" x=\"93.543126\" xlink:href=\"#C0_0_3c4249f443\" y=\"193.455046\"/>\r\n    </g>\r\n    <g clip-path=\"url(#p812e7d4a5b)\">\r\n     <use style=\"fill:#21918c;stroke:#21918c;\" x=\"299.744547\" xlink:href=\"#C0_0_3c4249f443\" y=\"114.1644\"/>\r\n    </g>\r\n    <g clip-path=\"url(#p812e7d4a5b)\">\r\n     <use style=\"fill:#440154;stroke:#440154;\" x=\"181.60757\" xlink:href=\"#C0_0_3c4249f443\" y=\"26.081172\"/>\r\n    </g>\r\n    <g clip-path=\"url(#p812e7d4a5b)\">\r\n     <use style=\"fill:#21918c;stroke:#21918c;\" x=\"315.37236\" xlink:href=\"#C0_0_3c4249f443\" y=\"104.687837\"/>\r\n    </g>\r\n    <g clip-path=\"url(#p812e7d4a5b)\">\r\n     <use style=\"fill:#21918c;stroke:#21918c;\" x=\"321.793854\" xlink:href=\"#C0_0_3c4249f443\" y=\"98.411942\"/>\r\n    </g>\r\n    <g clip-path=\"url(#p812e7d4a5b)\">\r\n     <use style=\"fill:#440154;stroke:#440154;\" x=\"151.557622\" xlink:href=\"#C0_0_3c4249f443\" y=\"32.237145\"/>\r\n    </g>\r\n    <g clip-path=\"url(#p812e7d4a5b)\">\r\n     <use style=\"fill:#440154;stroke:#440154;\" x=\"163.855506\" xlink:href=\"#C0_0_3c4249f443\" y=\"34.954422\"/>\r\n    </g>\r\n    <g clip-path=\"url(#p812e7d4a5b)\">\r\n     <use style=\"fill:#fde725;stroke:#fde725;\" x=\"90.900985\" xlink:href=\"#C0_0_3c4249f443\" y=\"185.795491\"/>\r\n    </g>\r\n    <g clip-path=\"url(#p812e7d4a5b)\">\r\n     <use style=\"fill:#fde725;stroke:#fde725;\" x=\"96.871041\" xlink:href=\"#C0_0_3c4249f443\" y=\"196.16231\"/>\r\n    </g>\r\n    <g clip-path=\"url(#p812e7d4a5b)\">\r\n     <use style=\"fill:#440154;stroke:#440154;\" x=\"152.46299\" xlink:href=\"#C0_0_3c4249f443\" y=\"48.368928\"/>\r\n    </g>\r\n    <g clip-path=\"url(#p812e7d4a5b)\">\r\n     <use style=\"fill:#440154;stroke:#440154;\" x=\"189.862841\" xlink:href=\"#C0_0_3c4249f443\" y=\"34.334094\"/>\r\n    </g>\r\n    <g clip-path=\"url(#p812e7d4a5b)\">\r\n     <use style=\"fill:#fde725;stroke:#fde725;\" x=\"64.579353\" xlink:href=\"#C0_0_3c4249f443\" y=\"194.258729\"/>\r\n    </g>\r\n    <g clip-path=\"url(#p812e7d4a5b)\">\r\n     <use style=\"fill:#fde725;stroke:#fde725;\" x=\"91.899047\" xlink:href=\"#C0_0_3c4249f443\" y=\"190.72111\"/>\r\n    </g>\r\n    <g clip-path=\"url(#p812e7d4a5b)\">\r\n     <use style=\"fill:#440154;stroke:#440154;\" x=\"173.431964\" xlink:href=\"#C0_0_3c4249f443\" y=\"25.793945\"/>\r\n    </g>\r\n    <g clip-path=\"url(#p812e7d4a5b)\">\r\n     <use style=\"fill:#fde725;stroke:#fde725;\" x=\"68.371134\" xlink:href=\"#C0_0_3c4249f443\" y=\"197.632522\"/>\r\n    </g>\r\n    <g clip-path=\"url(#p812e7d4a5b)\">\r\n     <use style=\"fill:#fde725;stroke:#fde725;\" x=\"95.883661\" xlink:href=\"#C0_0_3c4249f443\" y=\"199.957548\"/>\r\n    </g>\r\n    <g clip-path=\"url(#p812e7d4a5b)\">\r\n     <use style=\"fill:#440154;stroke:#440154;\" x=\"165.496918\" xlink:href=\"#C0_0_3c4249f443\" y=\"40.872357\"/>\r\n    </g>\r\n    <g clip-path=\"url(#p812e7d4a5b)\">\r\n     <use style=\"fill:#fde725;stroke:#fde725;\" x=\"84.726576\" xlink:href=\"#C0_0_3c4249f443\" y=\"195.70904\"/>\r\n    </g>\r\n    <g clip-path=\"url(#p812e7d4a5b)\">\r\n     <use style=\"fill:#fde725;stroke:#fde725;\" x=\"77.237423\" xlink:href=\"#C0_0_3c4249f443\" y=\"190.421283\"/>\r\n    </g>\r\n    <g clip-path=\"url(#p812e7d4a5b)\">\r\n     <use style=\"fill:#440154;stroke:#440154;\" x=\"182.218442\" xlink:href=\"#C0_0_3c4249f443\" y=\"20.308563\"/>\r\n    </g>\r\n    <g clip-path=\"url(#p812e7d4a5b)\">\r\n     <use style=\"fill:#440154;stroke:#440154;\" x=\"174.165527\" xlink:href=\"#C0_0_3c4249f443\" y=\"20.035506\"/>\r\n    </g>\r\n    <g clip-path=\"url(#p812e7d4a5b)\">\r\n     <use style=\"fill:#440154;stroke:#440154;\" x=\"165.553255\" xlink:href=\"#C0_0_3c4249f443\" y=\"25.243981\"/>\r\n    </g>\r\n    <g clip-path=\"url(#p812e7d4a5b)\">\r\n     <use style=\"fill:#21918c;stroke:#21918c;\" x=\"291.131835\" xlink:href=\"#C0_0_3c4249f443\" y=\"112.669632\"/>\r\n    </g>\r\n    <g clip-path=\"url(#p812e7d4a5b)\">\r\n     <use style=\"fill:#fde725;stroke:#fde725;\" x=\"98.973885\" xlink:href=\"#C0_0_3c4249f443\" y=\"208.006777\"/>\r\n    </g>\r\n    <g clip-path=\"url(#p812e7d4a5b)\">\r\n     <use style=\"fill:#fde725;stroke:#fde725;\" x=\"66.529845\" xlink:href=\"#C0_0_3c4249f443\" y=\"191.132625\"/>\r\n    </g>\r\n    <g clip-path=\"url(#p812e7d4a5b)\">\r\n     <use style=\"fill:#fde725;stroke:#fde725;\" x=\"61.212838\" xlink:href=\"#C0_0_3c4249f443\" y=\"212.761416\"/>\r\n    </g>\r\n    <g clip-path=\"url(#p812e7d4a5b)\">\r\n     <use style=\"fill:#fde725;stroke:#fde725;\" x=\"72.503456\" xlink:href=\"#C0_0_3c4249f443\" y=\"196.826616\"/>\r\n    </g>\r\n    <g clip-path=\"url(#p812e7d4a5b)\">\r\n     <use style=\"fill:#21918c;stroke:#21918c;\" x=\"325.829068\" xlink:href=\"#C0_0_3c4249f443\" y=\"105.673632\"/>\r\n    </g>\r\n    <g clip-path=\"url(#p812e7d4a5b)\">\r\n     <use style=\"fill:#21918c;stroke:#21918c;\" x=\"315.926037\" xlink:href=\"#C0_0_3c4249f443\" y=\"105.258079\"/>\r\n    </g>\r\n    <g clip-path=\"url(#p812e7d4a5b)\">\r\n     <use style=\"fill:#fde725;stroke:#fde725;\" x=\"109.777993\" xlink:href=\"#C0_0_3c4249f443\" y=\"207.632447\"/>\r\n    </g>\r\n    <g clip-path=\"url(#p812e7d4a5b)\">\r\n     <use style=\"fill:#440154;stroke:#440154;\" x=\"206.907375\" xlink:href=\"#C0_0_3c4249f443\" y=\"28.216919\"/>\r\n    </g>\r\n    <g clip-path=\"url(#p812e7d4a5b)\">\r\n     <use style=\"fill:#440154;stroke:#440154;\" x=\"162.715023\" xlink:href=\"#C0_0_3c4249f443\" y=\"39.0863\"/>\r\n    </g>\r\n    <g clip-path=\"url(#p812e7d4a5b)\">\r\n     <use style=\"fill:#440154;stroke:#440154;\" x=\"176.260838\" xlink:href=\"#C0_0_3c4249f443\" y=\"50.714352\"/>\r\n    </g>\r\n    <g clip-path=\"url(#p812e7d4a5b)\">\r\n     <use style=\"fill:#440154;stroke:#440154;\" x=\"181.46202\" xlink:href=\"#C0_0_3c4249f443\" y=\"40.044707\"/>\r\n    </g>\r\n    <g clip-path=\"url(#p812e7d4a5b)\">\r\n     <use style=\"fill:#21918c;stroke:#21918c;\" x=\"338.383832\" xlink:href=\"#C0_0_3c4249f443\" y=\"104.978898\"/>\r\n    </g>\r\n    <g clip-path=\"url(#p812e7d4a5b)\">\r\n     <use style=\"fill:#21918c;stroke:#21918c;\" x=\"321.686067\" xlink:href=\"#C0_0_3c4249f443\" y=\"128.750297\"/>\r\n    </g>\r\n    <g clip-path=\"url(#p812e7d4a5b)\">\r\n     <use style=\"fill:#fde725;stroke:#fde725;\" x=\"58.360034\" xlink:href=\"#C0_0_3c4249f443\" y=\"208.834633\"/>\r\n    </g>\r\n    <g clip-path=\"url(#p812e7d4a5b)\">\r\n     <use style=\"fill:#440154;stroke:#440154;\" x=\"165.177484\" xlink:href=\"#C0_0_3c4249f443\" y=\"37.998111\"/>\r\n    </g>\r\n    <g clip-path=\"url(#p812e7d4a5b)\">\r\n     <use style=\"fill:#21918c;stroke:#21918c;\" x=\"319.122076\" xlink:href=\"#C0_0_3c4249f443\" y=\"120.346371\"/>\r\n    </g>\r\n    <g clip-path=\"url(#p812e7d4a5b)\">\r\n     <use style=\"fill:#440154;stroke:#440154;\" x=\"147.965381\" xlink:href=\"#C0_0_3c4249f443\" y=\"34.07247\"/>\r\n    </g>\r\n    <g clip-path=\"url(#p812e7d4a5b)\">\r\n     <use style=\"fill:#440154;stroke:#440154;\" x=\"172.547283\" xlink:href=\"#C0_0_3c4249f443\" y=\"39.182871\"/>\r\n    </g>\r\n    <g clip-path=\"url(#p812e7d4a5b)\">\r\n     <use style=\"fill:#21918c;stroke:#21918c;\" x=\"298.289599\" xlink:href=\"#C0_0_3c4249f443\" y=\"103.492454\"/>\r\n    </g>\r\n    <g clip-path=\"url(#p812e7d4a5b)\">\r\n     <use style=\"fill:#fde725;stroke:#fde725;\" x=\"53.700994\" xlink:href=\"#C0_0_3c4249f443\" y=\"197.315318\"/>\r\n    </g>\r\n    <g clip-path=\"url(#p812e7d4a5b)\">\r\n     <use style=\"fill:#fde725;stroke:#fde725;\" x=\"89.800581\" xlink:href=\"#C0_0_3c4249f443\" y=\"195.25579\"/>\r\n    </g>\r\n    <g clip-path=\"url(#p812e7d4a5b)\">\r\n     <use style=\"fill:#fde725;stroke:#fde725;\" x=\"86.553255\" xlink:href=\"#C0_0_3c4249f443\" y=\"184.29314\"/>\r\n    </g>\r\n    <g clip-path=\"url(#p812e7d4a5b)\">\r\n     <use style=\"fill:#21918c;stroke:#21918c;\" x=\"303.435117\" xlink:href=\"#C0_0_3c4249f443\" y=\"113.502047\"/>\r\n    </g>\r\n    <g clip-path=\"url(#p812e7d4a5b)\">\r\n     <use style=\"fill:#21918c;stroke:#21918c;\" x=\"266.71543\" xlink:href=\"#C0_0_3c4249f443\" y=\"99.917897\"/>\r\n    </g>\r\n    <g clip-path=\"url(#p812e7d4a5b)\">\r\n     <use style=\"fill:#21918c;stroke:#21918c;\" x=\"319.929457\" xlink:href=\"#C0_0_3c4249f443\" y=\"110.760197\"/>\r\n    </g>\r\n    <g clip-path=\"url(#p812e7d4a5b)\">\r\n     <use style=\"fill:#440154;stroke:#440154;\" x=\"191.364251\" xlink:href=\"#C0_0_3c4249f443\" y=\"22.174263\"/>\r\n    </g>\r\n    <g clip-path=\"url(#p812e7d4a5b)\">\r\n     <use style=\"fill:#fde725;stroke:#fde725;\" x=\"91.558297\" xlink:href=\"#C0_0_3c4249f443\" y=\"191.186624\"/>\r\n    </g>\r\n    <g clip-path=\"url(#p812e7d4a5b)\">\r\n     <use style=\"fill:#fde725;stroke:#fde725;\" x=\"102.955376\" xlink:href=\"#C0_0_3c4249f443\" y=\"179.744164\"/>\r\n    </g>\r\n    <g clip-path=\"url(#p812e7d4a5b)\">\r\n     <use style=\"fill:#fde725;stroke:#fde725;\" x=\"81.759383\" xlink:href=\"#C0_0_3c4249f443\" y=\"191.882656\"/>\r\n    </g>\r\n    <g clip-path=\"url(#p812e7d4a5b)\">\r\n     <use style=\"fill:#440154;stroke:#440154;\" x=\"154.358603\" xlink:href=\"#C0_0_3c4249f443\" y=\"32.867787\"/>\r\n    </g>\r\n    <g clip-path=\"url(#p812e7d4a5b)\">\r\n     <use style=\"fill:#440154;stroke:#440154;\" x=\"179.797158\" xlink:href=\"#C0_0_3c4249f443\" y=\"55.727947\"/>\r\n    </g>\r\n    <g clip-path=\"url(#p812e7d4a5b)\">\r\n     <use style=\"fill:#21918c;stroke:#21918c;\" x=\"349.787288\" xlink:href=\"#C0_0_3c4249f443\" y=\"113.671515\"/>\r\n    </g>\r\n    <g clip-path=\"url(#p812e7d4a5b)\">\r\n     <use style=\"fill:#440154;stroke:#440154;\" x=\"139.922397\" xlink:href=\"#C0_0_3c4249f443\" y=\"41.863288\"/>\r\n    </g>\r\n    <g clip-path=\"url(#p812e7d4a5b)\">\r\n     <use style=\"fill:#fde725;stroke:#fde725;\" x=\"92.231155\" xlink:href=\"#C0_0_3c4249f443\" y=\"206.541219\"/>\r\n    </g>\r\n    <g clip-path=\"url(#p812e7d4a5b)\">\r\n     <use style=\"fill:#21918c;stroke:#21918c;\" x=\"305.592997\" xlink:href=\"#C0_0_3c4249f443\" y=\"111.715386\"/>\r\n    </g>\r\n    <g clip-path=\"url(#p812e7d4a5b)\">\r\n     <use style=\"fill:#fde725;stroke:#fde725;\" x=\"81.314888\" xlink:href=\"#C0_0_3c4249f443\" y=\"206.945407\"/>\r\n    </g>\r\n    <g clip-path=\"url(#p812e7d4a5b)\">\r\n     <use style=\"fill:#21918c;stroke:#21918c;\" x=\"280.926346\" xlink:href=\"#C0_0_3c4249f443\" y=\"108.62483\"/>\r\n    </g>\r\n    <g clip-path=\"url(#p812e7d4a5b)\">\r\n     <use style=\"fill:#fde725;stroke:#fde725;\" x=\"80.924251\" xlink:href=\"#C0_0_3c4249f443\" y=\"171.294207\"/>\r\n    </g>\r\n    <g clip-path=\"url(#p812e7d4a5b)\">\r\n     <use style=\"fill:#fde725;stroke:#fde725;\" x=\"90.630011\" xlink:href=\"#C0_0_3c4249f443\" y=\"211.994619\"/>\r\n    </g>\r\n    <g clip-path=\"url(#p812e7d4a5b)\">\r\n     <use style=\"fill:#21918c;stroke:#21918c;\" x=\"321.046844\" xlink:href=\"#C0_0_3c4249f443\" y=\"83.073533\"/>\r\n    </g>\r\n    <g clip-path=\"url(#p812e7d4a5b)\">\r\n     <use style=\"fill:#fde725;stroke:#fde725;\" x=\"68.256449\" xlink:href=\"#C0_0_3c4249f443\" y=\"207.582447\"/>\r\n    </g>\r\n    <g clip-path=\"url(#p812e7d4a5b)\">\r\n     <use style=\"fill:#21918c;stroke:#21918c;\" x=\"309.085908\" xlink:href=\"#C0_0_3c4249f443\" y=\"103.085286\"/>\r\n    </g>\r\n    <g clip-path=\"url(#p812e7d4a5b)\">\r\n     <use style=\"fill:#21918c;stroke:#21918c;\" x=\"325.047136\" xlink:href=\"#C0_0_3c4249f443\" y=\"109.116736\"/>\r\n    </g>\r\n    <g clip-path=\"url(#p812e7d4a5b)\">\r\n     <use style=\"fill:#21918c;stroke:#21918c;\" x=\"312.877904\" xlink:href=\"#C0_0_3c4249f443\" y=\"116.586157\"/>\r\n    </g>\r\n    <g clip-path=\"url(#p812e7d4a5b)\">\r\n     <use style=\"fill:#fde725;stroke:#fde725;\" x=\"91.367934\" xlink:href=\"#C0_0_3c4249f443\" y=\"195.654687\"/>\r\n    </g>\r\n    <g clip-path=\"url(#p812e7d4a5b)\">\r\n     <use style=\"fill:#fde725;stroke:#fde725;\" x=\"62.138249\" xlink:href=\"#C0_0_3c4249f443\" y=\"192.472209\"/>\r\n    </g>\r\n    <g clip-path=\"url(#p812e7d4a5b)\">\r\n     <use style=\"fill:#440154;stroke:#440154;\" x=\"181.858041\" xlink:href=\"#C0_0_3c4249f443\" y=\"54.186097\"/>\r\n    </g>\r\n    <g clip-path=\"url(#p812e7d4a5b)\">\r\n     <use style=\"fill:#21918c;stroke:#21918c;\" x=\"321.846033\" xlink:href=\"#C0_0_3c4249f443\" y=\"113.519684\"/>\r\n    </g>\r\n    <g clip-path=\"url(#p812e7d4a5b)\">\r\n     <use style=\"fill:#fde725;stroke:#fde725;\" x=\"105.820289\" xlink:href=\"#C0_0_3c4249f443\" y=\"194.973943\"/>\r\n    </g>\r\n    <g clip-path=\"url(#p812e7d4a5b)\">\r\n     <use style=\"fill:#21918c;stroke:#21918c;\" x=\"335.862463\" xlink:href=\"#C0_0_3c4249f443\" y=\"117.685383\"/>\r\n    </g>\r\n    <g clip-path=\"url(#p812e7d4a5b)\">\r\n     <use style=\"fill:#fde725;stroke:#fde725;\" x=\"87.469738\" xlink:href=\"#C0_0_3c4249f443\" y=\"210.93995\"/>\r\n    </g>\r\n    <g clip-path=\"url(#p812e7d4a5b)\">\r\n     <use style=\"fill:#21918c;stroke:#21918c;\" x=\"358.064631\" xlink:href=\"#C0_0_3c4249f443\" y=\"106.561113\"/>\r\n    </g>\r\n    <g clip-path=\"url(#p812e7d4a5b)\">\r\n     <use style=\"fill:#21918c;stroke:#21918c;\" x=\"288.389032\" xlink:href=\"#C0_0_3c4249f443\" y=\"107.649097\"/>\r\n    </g>\r\n    <g clip-path=\"url(#p812e7d4a5b)\">\r\n     <use style=\"fill:#440154;stroke:#440154;\" x=\"182.223316\" xlink:href=\"#C0_0_3c4249f443\" y=\"42.71336\"/>\r\n    </g>\r\n    <g clip-path=\"url(#p812e7d4a5b)\">\r\n     <use style=\"fill:#21918c;stroke:#21918c;\" x=\"303.946817\" xlink:href=\"#C0_0_3c4249f443\" y=\"111.657909\"/>\r\n    </g>\r\n    <g clip-path=\"url(#p812e7d4a5b)\">\r\n     <use style=\"fill:#440154;stroke:#440154;\" x=\"191.567369\" xlink:href=\"#C0_0_3c4249f443\" y=\"48.621767\"/>\r\n    </g>\r\n    <g clip-path=\"url(#p812e7d4a5b)\">\r\n     <use style=\"fill:#fde725;stroke:#fde725;\" x=\"124.114704\" xlink:href=\"#C0_0_3c4249f443\" y=\"194.347393\"/>\r\n    </g>\r\n    <g clip-path=\"url(#p812e7d4a5b)\">\r\n     <use style=\"fill:#440154;stroke:#440154;\" x=\"174.618202\" xlink:href=\"#C0_0_3c4249f443\" y=\"46.947606\"/>\r\n    </g>\r\n    <g clip-path=\"url(#p812e7d4a5b)\">\r\n     <use style=\"fill:#440154;stroke:#440154;\" x=\"179.126145\" xlink:href=\"#C0_0_3c4249f443\" y=\"56.204026\"/>\r\n    </g>\r\n    <g clip-path=\"url(#p812e7d4a5b)\">\r\n     <use style=\"fill:#440154;stroke:#440154;\" x=\"204.60508\" xlink:href=\"#C0_0_3c4249f443\" y=\"38.409818\"/>\r\n    </g>\r\n    <g clip-path=\"url(#p812e7d4a5b)\">\r\n     <use style=\"fill:#21918c;stroke:#21918c;\" x=\"301.186209\" xlink:href=\"#C0_0_3c4249f443\" y=\"92.446418\"/>\r\n    </g>\r\n    <g clip-path=\"url(#p812e7d4a5b)\">\r\n     <use style=\"fill:#440154;stroke:#440154;\" x=\"144.917605\" xlink:href=\"#C0_0_3c4249f443\" y=\"43.480225\"/>\r\n    </g>\r\n    <g clip-path=\"url(#p812e7d4a5b)\">\r\n     <use style=\"fill:#21918c;stroke:#21918c;\" x=\"311.876542\" xlink:href=\"#C0_0_3c4249f443\" y=\"123.372156\"/>\r\n    </g>\r\n    <g clip-path=\"url(#p812e7d4a5b)\">\r\n     <use style=\"fill:#21918c;stroke:#21918c;\" x=\"321.590505\" xlink:href=\"#C0_0_3c4249f443\" y=\"111.421314\"/>\r\n    </g>\r\n    <g clip-path=\"url(#p812e7d4a5b)\">\r\n     <use style=\"fill:#21918c;stroke:#21918c;\" x=\"342.994355\" xlink:href=\"#C0_0_3c4249f443\" y=\"100.635964\"/>\r\n    </g>\r\n    <g clip-path=\"url(#p812e7d4a5b)\">\r\n     <use style=\"fill:#440154;stroke:#440154;\" x=\"156.483367\" xlink:href=\"#C0_0_3c4249f443\" y=\"50.58664\"/>\r\n    </g>\r\n    <g clip-path=\"url(#p812e7d4a5b)\">\r\n     <use style=\"fill:#21918c;stroke:#21918c;\" x=\"331.723205\" xlink:href=\"#C0_0_3c4249f443\" y=\"85.873023\"/>\r\n    </g>\r\n    <g clip-path=\"url(#p812e7d4a5b)\">\r\n     <use style=\"fill:#440154;stroke:#440154;\" x=\"162.693373\" xlink:href=\"#C0_0_3c4249f443\" y=\"17.083636\"/>\r\n    </g>\r\n    <g clip-path=\"url(#p812e7d4a5b)\">\r\n     <use style=\"fill:#440154;stroke:#440154;\" x=\"161.168523\" xlink:href=\"#C0_0_3c4249f443\" y=\"29.815401\"/>\r\n    </g>\r\n    <g clip-path=\"url(#p812e7d4a5b)\">\r\n     <use style=\"fill:#440154;stroke:#440154;\" x=\"195.793391\" xlink:href=\"#C0_0_3c4249f443\" y=\"26.535444\"/>\r\n    </g>\r\n    <g clip-path=\"url(#p812e7d4a5b)\">\r\n     <use style=\"fill:#21918c;stroke:#21918c;\" x=\"316.556029\" xlink:href=\"#C0_0_3c4249f443\" y=\"104.206129\"/>\r\n    </g>\r\n    <g clip-path=\"url(#p812e7d4a5b)\">\r\n     <use style=\"fill:#fde725;stroke:#fde725;\" x=\"108.246475\" xlink:href=\"#C0_0_3c4249f443\" y=\"188.395418\"/>\r\n    </g>\r\n    <g clip-path=\"url(#p812e7d4a5b)\">\r\n     <use style=\"fill:#440154;stroke:#440154;\" x=\"157.87829\" xlink:href=\"#C0_0_3c4249f443\" y=\"39.266087\"/>\r\n    </g>\r\n   </g>\r\n   <g id=\"matplotlib.axis_1\">\r\n    <g id=\"xtick_1\">\r\n     <g id=\"line2d_1\">\r\n      <defs>\r\n       <path d=\"M 0 0 \r\nL 0 3.5 \r\n\" id=\"m5b8b4cad5a\" style=\"stroke:#000000;stroke-width:0.8;\"/>\r\n      </defs>\r\n      <g>\r\n       <use style=\"stroke:#000000;stroke-width:0.8;\" x=\"63.576234\" xlink:href=\"#m5b8b4cad5a\" y=\"224.64\"/>\r\n      </g>\r\n     </g>\r\n     <g id=\"text_1\">\r\n      <!-- −8 -->\r\n      <g transform=\"translate(56.20514 239.238437)scale(0.1 -0.1)\">\r\n       <defs>\r\n        <path d=\"M 10.59375 35.5 \r\nL 73.1875 35.5 \r\nL 73.1875 27.203125 \r\nL 10.59375 27.203125 \r\nz\r\n\" id=\"DejaVuSans-8722\"/>\r\n        <path d=\"M 31.78125 34.625 \r\nQ 24.75 34.625 20.71875 30.859375 \r\nQ 16.703125 27.09375 16.703125 20.515625 \r\nQ 16.703125 13.921875 20.71875 10.15625 \r\nQ 24.75 6.390625 31.78125 6.390625 \r\nQ 38.8125 6.390625 42.859375 10.171875 \r\nQ 46.921875 13.96875 46.921875 20.515625 \r\nQ 46.921875 27.09375 42.890625 30.859375 \r\nQ 38.875 34.625 31.78125 34.625 \r\nz\r\nM 21.921875 38.8125 \r\nQ 15.578125 40.375 12.03125 44.71875 \r\nQ 8.5 49.078125 8.5 55.328125 \r\nQ 8.5 64.0625 14.71875 69.140625 \r\nQ 20.953125 74.21875 31.78125 74.21875 \r\nQ 42.671875 74.21875 48.875 69.140625 \r\nQ 55.078125 64.0625 55.078125 55.328125 \r\nQ 55.078125 49.078125 51.53125 44.71875 \r\nQ 48 40.375 41.703125 38.8125 \r\nQ 48.828125 37.15625 52.796875 32.3125 \r\nQ 56.78125 27.484375 56.78125 20.515625 \r\nQ 56.78125 9.90625 50.3125 4.234375 \r\nQ 43.84375 -1.421875 31.78125 -1.421875 \r\nQ 19.734375 -1.421875 13.25 4.234375 \r\nQ 6.78125 9.90625 6.78125 20.515625 \r\nQ 6.78125 27.484375 10.78125 32.3125 \r\nQ 14.796875 37.15625 21.921875 38.8125 \r\nz\r\nM 18.3125 54.390625 \r\nQ 18.3125 48.734375 21.84375 45.5625 \r\nQ 25.390625 42.390625 31.78125 42.390625 \r\nQ 38.140625 42.390625 41.71875 45.5625 \r\nQ 45.3125 48.734375 45.3125 54.390625 \r\nQ 45.3125 60.0625 41.71875 63.234375 \r\nQ 38.140625 66.40625 31.78125 66.40625 \r\nQ 25.390625 66.40625 21.84375 63.234375 \r\nQ 18.3125 60.0625 18.3125 54.390625 \r\nz\r\n\" id=\"DejaVuSans-56\"/>\r\n       </defs>\r\n       <use xlink:href=\"#DejaVuSans-8722\"/>\r\n       <use x=\"83.789062\" xlink:href=\"#DejaVuSans-56\"/>\r\n      </g>\r\n     </g>\r\n    </g>\r\n    <g id=\"xtick_2\">\r\n     <g id=\"line2d_2\">\r\n      <g>\r\n       <use style=\"stroke:#000000;stroke-width:0.8;\" x=\"104.122438\" xlink:href=\"#m5b8b4cad5a\" y=\"224.64\"/>\r\n      </g>\r\n     </g>\r\n     <g id=\"text_2\">\r\n      <!-- −6 -->\r\n      <g transform=\"translate(96.751345 239.238437)scale(0.1 -0.1)\">\r\n       <defs>\r\n        <path d=\"M 33.015625 40.375 \r\nQ 26.375 40.375 22.484375 35.828125 \r\nQ 18.609375 31.296875 18.609375 23.390625 \r\nQ 18.609375 15.53125 22.484375 10.953125 \r\nQ 26.375 6.390625 33.015625 6.390625 \r\nQ 39.65625 6.390625 43.53125 10.953125 \r\nQ 47.40625 15.53125 47.40625 23.390625 \r\nQ 47.40625 31.296875 43.53125 35.828125 \r\nQ 39.65625 40.375 33.015625 40.375 \r\nz\r\nM 52.59375 71.296875 \r\nL 52.59375 62.3125 \r\nQ 48.875 64.0625 45.09375 64.984375 \r\nQ 41.3125 65.921875 37.59375 65.921875 \r\nQ 27.828125 65.921875 22.671875 59.328125 \r\nQ 17.53125 52.734375 16.796875 39.40625 \r\nQ 19.671875 43.65625 24.015625 45.921875 \r\nQ 28.375 48.1875 33.59375 48.1875 \r\nQ 44.578125 48.1875 50.953125 41.515625 \r\nQ 57.328125 34.859375 57.328125 23.390625 \r\nQ 57.328125 12.15625 50.6875 5.359375 \r\nQ 44.046875 -1.421875 33.015625 -1.421875 \r\nQ 20.359375 -1.421875 13.671875 8.265625 \r\nQ 6.984375 17.96875 6.984375 36.375 \r\nQ 6.984375 53.65625 15.1875 63.9375 \r\nQ 23.390625 74.21875 37.203125 74.21875 \r\nQ 40.921875 74.21875 44.703125 73.484375 \r\nQ 48.484375 72.75 52.59375 71.296875 \r\nz\r\n\" id=\"DejaVuSans-54\"/>\r\n       </defs>\r\n       <use xlink:href=\"#DejaVuSans-8722\"/>\r\n       <use x=\"83.789062\" xlink:href=\"#DejaVuSans-54\"/>\r\n      </g>\r\n     </g>\r\n    </g>\r\n    <g id=\"xtick_3\">\r\n     <g id=\"line2d_3\">\r\n      <g>\r\n       <use style=\"stroke:#000000;stroke-width:0.8;\" x=\"144.668643\" xlink:href=\"#m5b8b4cad5a\" y=\"224.64\"/>\r\n      </g>\r\n     </g>\r\n     <g id=\"text_3\">\r\n      <!-- −4 -->\r\n      <g transform=\"translate(137.297549 239.238437)scale(0.1 -0.1)\">\r\n       <defs>\r\n        <path d=\"M 37.796875 64.3125 \r\nL 12.890625 25.390625 \r\nL 37.796875 25.390625 \r\nz\r\nM 35.203125 72.90625 \r\nL 47.609375 72.90625 \r\nL 47.609375 25.390625 \r\nL 58.015625 25.390625 \r\nL 58.015625 17.1875 \r\nL 47.609375 17.1875 \r\nL 47.609375 0 \r\nL 37.796875 0 \r\nL 37.796875 17.1875 \r\nL 4.890625 17.1875 \r\nL 4.890625 26.703125 \r\nz\r\n\" id=\"DejaVuSans-52\"/>\r\n       </defs>\r\n       <use xlink:href=\"#DejaVuSans-8722\"/>\r\n       <use x=\"83.789062\" xlink:href=\"#DejaVuSans-52\"/>\r\n      </g>\r\n     </g>\r\n    </g>\r\n    <g id=\"xtick_4\">\r\n     <g id=\"line2d_4\">\r\n      <g>\r\n       <use style=\"stroke:#000000;stroke-width:0.8;\" x=\"185.214848\" xlink:href=\"#m5b8b4cad5a\" y=\"224.64\"/>\r\n      </g>\r\n     </g>\r\n     <g id=\"text_4\">\r\n      <!-- −2 -->\r\n      <g transform=\"translate(177.843754 239.238437)scale(0.1 -0.1)\">\r\n       <defs>\r\n        <path d=\"M 19.1875 8.296875 \r\nL 53.609375 8.296875 \r\nL 53.609375 0 \r\nL 7.328125 0 \r\nL 7.328125 8.296875 \r\nQ 12.9375 14.109375 22.625 23.890625 \r\nQ 32.328125 33.6875 34.8125 36.53125 \r\nQ 39.546875 41.84375 41.421875 45.53125 \r\nQ 43.3125 49.21875 43.3125 52.78125 \r\nQ 43.3125 58.59375 39.234375 62.25 \r\nQ 35.15625 65.921875 28.609375 65.921875 \r\nQ 23.96875 65.921875 18.8125 64.3125 \r\nQ 13.671875 62.703125 7.8125 59.421875 \r\nL 7.8125 69.390625 \r\nQ 13.765625 71.78125 18.9375 73 \r\nQ 24.125 74.21875 28.421875 74.21875 \r\nQ 39.75 74.21875 46.484375 68.546875 \r\nQ 53.21875 62.890625 53.21875 53.421875 \r\nQ 53.21875 48.921875 51.53125 44.890625 \r\nQ 49.859375 40.875 45.40625 35.40625 \r\nQ 44.1875 33.984375 37.640625 27.21875 \r\nQ 31.109375 20.453125 19.1875 8.296875 \r\nz\r\n\" id=\"DejaVuSans-50\"/>\r\n       </defs>\r\n       <use xlink:href=\"#DejaVuSans-8722\"/>\r\n       <use x=\"83.789062\" xlink:href=\"#DejaVuSans-50\"/>\r\n      </g>\r\n     </g>\r\n    </g>\r\n    <g id=\"xtick_5\">\r\n     <g id=\"line2d_5\">\r\n      <g>\r\n       <use style=\"stroke:#000000;stroke-width:0.8;\" x=\"225.761052\" xlink:href=\"#m5b8b4cad5a\" y=\"224.64\"/>\r\n      </g>\r\n     </g>\r\n     <g id=\"text_5\">\r\n      <!-- 0 -->\r\n      <g transform=\"translate(222.579802 239.238437)scale(0.1 -0.1)\">\r\n       <defs>\r\n        <path d=\"M 31.78125 66.40625 \r\nQ 24.171875 66.40625 20.328125 58.90625 \r\nQ 16.5 51.421875 16.5 36.375 \r\nQ 16.5 21.390625 20.328125 13.890625 \r\nQ 24.171875 6.390625 31.78125 6.390625 \r\nQ 39.453125 6.390625 43.28125 13.890625 \r\nQ 47.125 21.390625 47.125 36.375 \r\nQ 47.125 51.421875 43.28125 58.90625 \r\nQ 39.453125 66.40625 31.78125 66.40625 \r\nz\r\nM 31.78125 74.21875 \r\nQ 44.046875 74.21875 50.515625 64.515625 \r\nQ 56.984375 54.828125 56.984375 36.375 \r\nQ 56.984375 17.96875 50.515625 8.265625 \r\nQ 44.046875 -1.421875 31.78125 -1.421875 \r\nQ 19.53125 -1.421875 13.0625 8.265625 \r\nQ 6.59375 17.96875 6.59375 36.375 \r\nQ 6.59375 54.828125 13.0625 64.515625 \r\nQ 19.53125 74.21875 31.78125 74.21875 \r\nz\r\n\" id=\"DejaVuSans-48\"/>\r\n       </defs>\r\n       <use xlink:href=\"#DejaVuSans-48\"/>\r\n      </g>\r\n     </g>\r\n    </g>\r\n    <g id=\"xtick_6\">\r\n     <g id=\"line2d_6\">\r\n      <g>\r\n       <use style=\"stroke:#000000;stroke-width:0.8;\" x=\"266.307257\" xlink:href=\"#m5b8b4cad5a\" y=\"224.64\"/>\r\n      </g>\r\n     </g>\r\n     <g id=\"text_6\">\r\n      <!-- 2 -->\r\n      <g transform=\"translate(263.126007 239.238437)scale(0.1 -0.1)\">\r\n       <use xlink:href=\"#DejaVuSans-50\"/>\r\n      </g>\r\n     </g>\r\n    </g>\r\n    <g id=\"xtick_7\">\r\n     <g id=\"line2d_7\">\r\n      <g>\r\n       <use style=\"stroke:#000000;stroke-width:0.8;\" x=\"306.853462\" xlink:href=\"#m5b8b4cad5a\" y=\"224.64\"/>\r\n      </g>\r\n     </g>\r\n     <g id=\"text_7\">\r\n      <!-- 4 -->\r\n      <g transform=\"translate(303.672212 239.238437)scale(0.1 -0.1)\">\r\n       <use xlink:href=\"#DejaVuSans-52\"/>\r\n      </g>\r\n     </g>\r\n    </g>\r\n    <g id=\"xtick_8\">\r\n     <g id=\"line2d_8\">\r\n      <g>\r\n       <use style=\"stroke:#000000;stroke-width:0.8;\" x=\"347.399666\" xlink:href=\"#m5b8b4cad5a\" y=\"224.64\"/>\r\n      </g>\r\n     </g>\r\n     <g id=\"text_8\">\r\n      <!-- 6 -->\r\n      <g transform=\"translate(344.218416 239.238437)scale(0.1 -0.1)\">\r\n       <use xlink:href=\"#DejaVuSans-54\"/>\r\n      </g>\r\n     </g>\r\n    </g>\r\n   </g>\r\n   <g id=\"matplotlib.axis_2\">\r\n    <g id=\"ytick_1\">\r\n     <g id=\"line2d_9\">\r\n      <defs>\r\n       <path d=\"M 0 0 \r\nL -3.5 0 \r\n\" id=\"m7639d856a8\" style=\"stroke:#000000;stroke-width:0.8;\"/>\r\n      </defs>\r\n      <g>\r\n       <use style=\"stroke:#000000;stroke-width:0.8;\" x=\"38.482813\" xlink:href=\"#m7639d856a8\" y=\"205.571806\"/>\r\n      </g>\r\n     </g>\r\n     <g id=\"text_9\">\r\n      <!-- −7.5 -->\r\n      <g transform=\"translate(7.2 209.371025)scale(0.1 -0.1)\">\r\n       <defs>\r\n        <path d=\"M 8.203125 72.90625 \r\nL 55.078125 72.90625 \r\nL 55.078125 68.703125 \r\nL 28.609375 0 \r\nL 18.3125 0 \r\nL 43.21875 64.59375 \r\nL 8.203125 64.59375 \r\nz\r\n\" id=\"DejaVuSans-55\"/>\r\n        <path d=\"M 10.6875 12.40625 \r\nL 21 12.40625 \r\nL 21 0 \r\nL 10.6875 0 \r\nz\r\n\" id=\"DejaVuSans-46\"/>\r\n        <path d=\"M 10.796875 72.90625 \r\nL 49.515625 72.90625 \r\nL 49.515625 64.59375 \r\nL 19.828125 64.59375 \r\nL 19.828125 46.734375 \r\nQ 21.96875 47.46875 24.109375 47.828125 \r\nQ 26.265625 48.1875 28.421875 48.1875 \r\nQ 40.625 48.1875 47.75 41.5 \r\nQ 54.890625 34.8125 54.890625 23.390625 \r\nQ 54.890625 11.625 47.5625 5.09375 \r\nQ 40.234375 -1.421875 26.90625 -1.421875 \r\nQ 22.3125 -1.421875 17.546875 -0.640625 \r\nQ 12.796875 0.140625 7.71875 1.703125 \r\nL 7.71875 11.625 \r\nQ 12.109375 9.234375 16.796875 8.0625 \r\nQ 21.484375 6.890625 26.703125 6.890625 \r\nQ 35.15625 6.890625 40.078125 11.328125 \r\nQ 45.015625 15.765625 45.015625 23.390625 \r\nQ 45.015625 31 40.078125 35.4375 \r\nQ 35.15625 39.890625 26.703125 39.890625 \r\nQ 22.75 39.890625 18.8125 39.015625 \r\nQ 14.890625 38.140625 10.796875 36.28125 \r\nz\r\n\" id=\"DejaVuSans-53\"/>\r\n       </defs>\r\n       <use xlink:href=\"#DejaVuSans-8722\"/>\r\n       <use x=\"83.789062\" xlink:href=\"#DejaVuSans-55\"/>\r\n       <use x=\"147.412109\" xlink:href=\"#DejaVuSans-46\"/>\r\n       <use x=\"179.199219\" xlink:href=\"#DejaVuSans-53\"/>\r\n      </g>\r\n     </g>\r\n    </g>\r\n    <g id=\"ytick_2\">\r\n     <g id=\"line2d_10\">\r\n      <g>\r\n       <use style=\"stroke:#000000;stroke-width:0.8;\" x=\"38.482813\" xlink:href=\"#m7639d856a8\" y=\"179.915378\"/>\r\n      </g>\r\n     </g>\r\n     <g id=\"text_10\">\r\n      <!-- −5.0 -->\r\n      <g transform=\"translate(7.2 183.714597)scale(0.1 -0.1)\">\r\n       <use xlink:href=\"#DejaVuSans-8722\"/>\r\n       <use x=\"83.789062\" xlink:href=\"#DejaVuSans-53\"/>\r\n       <use x=\"147.412109\" xlink:href=\"#DejaVuSans-46\"/>\r\n       <use x=\"179.199219\" xlink:href=\"#DejaVuSans-48\"/>\r\n      </g>\r\n     </g>\r\n    </g>\r\n    <g id=\"ytick_3\">\r\n     <g id=\"line2d_11\">\r\n      <g>\r\n       <use style=\"stroke:#000000;stroke-width:0.8;\" x=\"38.482813\" xlink:href=\"#m7639d856a8\" y=\"154.258951\"/>\r\n      </g>\r\n     </g>\r\n     <g id=\"text_11\">\r\n      <!-- −2.5 -->\r\n      <g transform=\"translate(7.2 158.05817)scale(0.1 -0.1)\">\r\n       <use xlink:href=\"#DejaVuSans-8722\"/>\r\n       <use x=\"83.789062\" xlink:href=\"#DejaVuSans-50\"/>\r\n       <use x=\"147.412109\" xlink:href=\"#DejaVuSans-46\"/>\r\n       <use x=\"179.199219\" xlink:href=\"#DejaVuSans-53\"/>\r\n      </g>\r\n     </g>\r\n    </g>\r\n    <g id=\"ytick_4\">\r\n     <g id=\"line2d_12\">\r\n      <g>\r\n       <use style=\"stroke:#000000;stroke-width:0.8;\" x=\"38.482813\" xlink:href=\"#m7639d856a8\" y=\"128.602524\"/>\r\n      </g>\r\n     </g>\r\n     <g id=\"text_12\">\r\n      <!-- 0.0 -->\r\n      <g transform=\"translate(15.579688 132.401742)scale(0.1 -0.1)\">\r\n       <use xlink:href=\"#DejaVuSans-48\"/>\r\n       <use x=\"63.623047\" xlink:href=\"#DejaVuSans-46\"/>\r\n       <use x=\"95.410156\" xlink:href=\"#DejaVuSans-48\"/>\r\n      </g>\r\n     </g>\r\n    </g>\r\n    <g id=\"ytick_5\">\r\n     <g id=\"line2d_13\">\r\n      <g>\r\n       <use style=\"stroke:#000000;stroke-width:0.8;\" x=\"38.482813\" xlink:href=\"#m7639d856a8\" y=\"102.946096\"/>\r\n      </g>\r\n     </g>\r\n     <g id=\"text_13\">\r\n      <!-- 2.5 -->\r\n      <g transform=\"translate(15.579688 106.745315)scale(0.1 -0.1)\">\r\n       <use xlink:href=\"#DejaVuSans-50\"/>\r\n       <use x=\"63.623047\" xlink:href=\"#DejaVuSans-46\"/>\r\n       <use x=\"95.410156\" xlink:href=\"#DejaVuSans-53\"/>\r\n      </g>\r\n     </g>\r\n    </g>\r\n    <g id=\"ytick_6\">\r\n     <g id=\"line2d_14\">\r\n      <g>\r\n       <use style=\"stroke:#000000;stroke-width:0.8;\" x=\"38.482813\" xlink:href=\"#m7639d856a8\" y=\"77.289669\"/>\r\n      </g>\r\n     </g>\r\n     <g id=\"text_14\">\r\n      <!-- 5.0 -->\r\n      <g transform=\"translate(15.579688 81.088888)scale(0.1 -0.1)\">\r\n       <use xlink:href=\"#DejaVuSans-53\"/>\r\n       <use x=\"63.623047\" xlink:href=\"#DejaVuSans-46\"/>\r\n       <use x=\"95.410156\" xlink:href=\"#DejaVuSans-48\"/>\r\n      </g>\r\n     </g>\r\n    </g>\r\n    <g id=\"ytick_7\">\r\n     <g id=\"line2d_15\">\r\n      <g>\r\n       <use style=\"stroke:#000000;stroke-width:0.8;\" x=\"38.482813\" xlink:href=\"#m7639d856a8\" y=\"51.633241\"/>\r\n      </g>\r\n     </g>\r\n     <g id=\"text_15\">\r\n      <!-- 7.5 -->\r\n      <g transform=\"translate(15.579688 55.43246)scale(0.1 -0.1)\">\r\n       <use xlink:href=\"#DejaVuSans-55\"/>\r\n       <use x=\"63.623047\" xlink:href=\"#DejaVuSans-46\"/>\r\n       <use x=\"95.410156\" xlink:href=\"#DejaVuSans-53\"/>\r\n      </g>\r\n     </g>\r\n    </g>\r\n    <g id=\"ytick_8\">\r\n     <g id=\"line2d_16\">\r\n      <g>\r\n       <use style=\"stroke:#000000;stroke-width:0.8;\" x=\"38.482813\" xlink:href=\"#m7639d856a8\" y=\"25.976814\"/>\r\n      </g>\r\n     </g>\r\n     <g id=\"text_16\">\r\n      <!-- 10.0 -->\r\n      <g transform=\"translate(9.217188 29.776033)scale(0.1 -0.1)\">\r\n       <defs>\r\n        <path d=\"M 12.40625 8.296875 \r\nL 28.515625 8.296875 \r\nL 28.515625 63.921875 \r\nL 10.984375 60.40625 \r\nL 10.984375 69.390625 \r\nL 28.421875 72.90625 \r\nL 38.28125 72.90625 \r\nL 38.28125 8.296875 \r\nL 54.390625 8.296875 \r\nL 54.390625 0 \r\nL 12.40625 0 \r\nz\r\n\" id=\"DejaVuSans-49\"/>\r\n       </defs>\r\n       <use xlink:href=\"#DejaVuSans-49\"/>\r\n       <use x=\"63.623047\" xlink:href=\"#DejaVuSans-48\"/>\r\n       <use x=\"127.246094\" xlink:href=\"#DejaVuSans-46\"/>\r\n       <use x=\"159.033203\" xlink:href=\"#DejaVuSans-48\"/>\r\n      </g>\r\n     </g>\r\n    </g>\r\n   </g>\r\n   <g id=\"patch_3\">\r\n    <path d=\"M 38.482813 224.64 \r\nL 38.482813 7.2 \r\n\" style=\"fill:none;stroke:#000000;stroke-linecap:square;stroke-linejoin:miter;stroke-width:0.8;\"/>\r\n   </g>\r\n   <g id=\"patch_4\">\r\n    <path d=\"M 373.282813 224.64 \r\nL 373.282813 7.2 \r\n\" style=\"fill:none;stroke:#000000;stroke-linecap:square;stroke-linejoin:miter;stroke-width:0.8;\"/>\r\n   </g>\r\n   <g id=\"patch_5\">\r\n    <path d=\"M 38.482812 224.64 \r\nL 373.282812 224.64 \r\n\" style=\"fill:none;stroke:#000000;stroke-linecap:square;stroke-linejoin:miter;stroke-width:0.8;\"/>\r\n   </g>\r\n   <g id=\"patch_6\">\r\n    <path d=\"M 38.482812 7.2 \r\nL 373.282812 7.2 \r\n\" style=\"fill:none;stroke:#000000;stroke-linecap:square;stroke-linejoin:miter;stroke-width:0.8;\"/>\r\n   </g>\r\n  </g>\r\n </g>\r\n <defs>\r\n  <clipPath id=\"p812e7d4a5b\">\r\n   <rect height=\"217.44\" width=\"334.8\" x=\"38.482813\" y=\"7.2\"/>\r\n  </clipPath>\r\n </defs>\r\n</svg>\r\n",
      "image/png": "[encoded data removed]"
     },
     "metadata": {
      "needs_background": "light"
     }
    }
   ],
   "source": [
    "# plt.scatter(X[:,0],X[:,1],c=y)"
   ]
  },
  {
   "cell_type": "code",
   "execution_count": 43,
   "metadata": {},
   "outputs": [
    {
     "output_type": "execute_result",
     "data": {
      "text/plain": "(array([[-7.72642091, -8.39495682],\n        [ 5.45339605,  0.74230537],\n        [-2.97867201,  9.55684617],\n        [ 6.04267315,  0.57131862],\n        [-6.52183983, -6.31932507]]),\n array([2, 1, 0, 1, 2]))"
     },
     "metadata": {},
     "execution_count": 43
    }
   ],
   "source": [
    "# X[:5],y[:5]"
   ]
  },
  {
   "cell_type": "code",
   "execution_count": 79,
   "metadata": {},
   "outputs": [],
   "source": [
    "X_train, X_test, y_train, y_test = train_test_split(X, y, test_size=0.33, random_state=42)"
   ]
  },
  {
   "cell_type": "code",
   "execution_count": 80,
   "metadata": {},
   "outputs": [
    {
     "output_type": "execute_result",
     "data": {
      "text/plain": "((6600, 784), (6600,))"
     },
     "metadata": {},
     "execution_count": 80
    }
   ],
   "source": [
    "X_train.shape,y_train.shape\n",
    "X_test.shape,y_test.shape"
   ]
  },
  {
   "cell_type": "code",
   "execution_count": 81,
   "metadata": {},
   "outputs": [],
   "source": [
    "from sklearn.neighbors import KNeighborsClassifier"
   ]
  },
  {
   "cell_type": "code",
   "execution_count": 82,
   "metadata": {},
   "outputs": [],
   "source": [
    "model = KNeighborsClassifier()"
   ]
  },
  {
   "cell_type": "code",
   "execution_count": 17,
   "metadata": {},
   "outputs": [
    {
     "output_type": "execute_result",
     "data": {
      "text/plain": "KNeighborsClassifier(algorithm='auto', leaf_size=30, metric='minkowski',\n                     metric_params=None, n_jobs=None, n_neighbors=5, p=2,\n                     weights='uniform')"
     },
     "metadata": {},
     "execution_count": 17
    }
   ],
   "source": [
    "#training model happens in fit function\n",
    "#plotting points on the graph\n",
    "#no work happening in training knn model\n",
    "model.fit(X_train, y_train)"
   ]
  },
  {
   "cell_type": "code",
   "execution_count": 18,
   "metadata": {},
   "outputs": [
    {
     "output_type": "execute_result",
     "data": {
      "text/plain": "array([1, 7, 0, 9, 4, 5, 4, 6, 9, 2], dtype=uint8)"
     },
     "metadata": {},
     "execution_count": 18
    }
   ],
   "source": [
    "model.predict(X_test[:10])"
   ]
  },
  {
   "cell_type": "code",
   "execution_count": 19,
   "metadata": {},
   "outputs": [
    {
     "output_type": "execute_result",
     "data": {
      "text/plain": "array([7, 7, 0, 9, 4, 5, 4, 6, 9, 2], dtype=uint8)"
     },
     "metadata": {},
     "execution_count": 19
    }
   ],
   "source": [
    "y_test[:10]"
   ]
  },
  {
   "cell_type": "code",
   "execution_count": 20,
   "metadata": {},
   "outputs": [
    {
     "output_type": "execute_result",
     "data": {
      "text/plain": "0.946"
     },
     "metadata": {},
     "execution_count": 20
    }
   ],
   "source": [
    "model.score(X_test[:1000],y_test[:1000])"
   ]
  },
  {
   "cell_type": "markdown",
   "metadata": {},
   "source": [
    "Custom KNN - Our own KNN implementation from scratch!"
   ]
  },
  {
   "cell_type": "code",
   "execution_count": 83,
   "metadata": {},
   "outputs": [],
   "source": [
    "class CustomKNN:\n",
    "    # constructor\n",
    "    def __init__(self, n_neighbours=5):\n",
    "        self.n_neighbours = n_neighbours\n",
    "        \n",
    "    # training function\n",
    "    def fit(self, X, y):\n",
    "        self._X = (X - X.mean()) / X.std() # standardisation\n",
    "        self._y = y\n",
    "    \n",
    "    # predict point\n",
    "    # given a single point, tell me which class it belongs to \n",
    "    def predict_point(self, point):\n",
    "        # storing the dis of given 'point' from each point in training data\n",
    "        list_dist = []\n",
    "        \n",
    "        # these points are from my training data\n",
    "        for x_point, y_point in zip(self._X, self._y):\n",
    "            dist_point = ((point - x_point) ** 2).sum()\n",
    "            list_dist.append([dist_point, y_point])\n",
    "        \n",
    "        ## sorting the list according to the distance\n",
    "        sorted_dist = sorted(list_dist)\n",
    "        top_k = sorted_dist[:self.n_neighbours]\n",
    "        \n",
    "        # taking the count \n",
    "        items, counts = np.unique(np.array(top_k)[:, 1], return_counts=True)\n",
    "        ans = items[np.argmax(counts)]\n",
    "        return ans\n",
    "            \n",
    "    # predict\n",
    "    # give me answer for each number in the array\n",
    "    def predict(self, X):\n",
    "        results = []\n",
    "        X = (X - X.mean()) / X.std() \n",
    "        for point in X:\n",
    "            results.append(self.predict_point(point))\n",
    "        return np.array(results, dtype=int)\n",
    "    \n",
    "    # score to measure my accuracy\n",
    "    def score(self, X, y):\n",
    "        return sum(self.predict(X) == y) / len(y)\n",
    "    \n",
    "    "
   ]
  },
  {
   "cell_type": "code",
   "execution_count": 86,
   "metadata": {},
   "outputs": [],
   "source": [
    "m2 = CustomKNN()"
   ]
  },
  {
   "cell_type": "code",
   "execution_count": 87,
   "metadata": {},
   "outputs": [],
   "source": [
    "m2.fit(X_train,y_train)"
   ]
  },
  {
   "cell_type": "code",
   "execution_count": 88,
   "metadata": {},
   "outputs": [
    {
     "output_type": "execute_result",
     "data": {
      "text/plain": "array([1, 7, 0, 9, 4, 5, 4, 6, 9, 2])"
     },
     "metadata": {},
     "execution_count": 88
    }
   ],
   "source": [
    "m2.predict(X_test[:10])"
   ]
  },
  {
   "cell_type": "code",
   "execution_count": 89,
   "metadata": {},
   "outputs": [
    {
     "output_type": "execute_result",
     "data": {
      "text/plain": "array([7, 7, 0, 9, 4, 5, 4, 6, 9, 2], dtype=uint8)"
     },
     "metadata": {},
     "execution_count": 89
    }
   ],
   "source": [
    "y_test[:10]"
   ]
  },
  {
   "cell_type": "code",
   "execution_count": 93,
   "metadata": {},
   "outputs": [
    {
     "output_type": "execute_result",
     "data": {
      "text/plain": "0.95"
     },
     "metadata": {},
     "execution_count": 93
    }
   ],
   "source": [
    "m2.score(X_test[:100], y_test[:100])"
   ]
  }
 ]
}